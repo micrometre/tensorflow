{
 "cells": [
  {
   "cell_type": "markdown",
   "id": "f97d77f8",
   "metadata": {},
   "source": [
    "# Introduction to Tensors\n",
    "\n",
    "This notebook provides a beginner-friendly introduction to tensors using TensorFlow. Tensors are the fundamental data structure in many machine learning frameworks, including TensorFlow and PyTorch. They are similar to arrays or matrices, but can have more dimensions.\n",
    "\n",
    "Let's get started by learning how to work with tensors!"
   ]
  },
  {
   "cell_type": "code",
   "execution_count": 1,
   "id": "cd8e3069",
   "metadata": {},
   "outputs": [
    {
     "name": "stderr",
     "output_type": "stream",
     "text": [
      "2025-09-03 21:08:52.134525: I tensorflow/core/util/port.cc:153] oneDNN custom operations are on. You may see slightly different numerical results due to floating-point round-off errors from different computation orders. To turn them off, set the environment variable `TF_ENABLE_ONEDNN_OPTS=0`.\n",
      "2025-09-03 21:08:52.134925: I external/local_xla/xla/tsl/cuda/cudart_stub.cc:32] Could not find cuda drivers on your machine, GPU will not be used.\n",
      "2025-09-03 21:08:52.137193: I external/local_xla/xla/tsl/cuda/cudart_stub.cc:32] Could not find cuda drivers on your machine, GPU will not be used.\n",
      "2025-09-03 21:08:52.142988: E external/local_xla/xla/stream_executor/cuda/cuda_fft.cc:467] Unable to register cuFFT factory: Attempting to register factory for plugin cuFFT when one has already been registered\n",
      "WARNING: All log messages before absl::InitializeLog() is called are written to STDERR\n",
      "E0000 00:00:1756930132.152398    6527 cuda_dnn.cc:8579] Unable to register cuDNN factory: Attempting to register factory for plugin cuDNN when one has already been registered\n",
      "E0000 00:00:1756930132.154994    6527 cuda_blas.cc:1407] Unable to register cuBLAS factory: Attempting to register factory for plugin cuBLAS when one has already been registered\n",
      "W0000 00:00:1756930132.162650    6527 computation_placer.cc:177] computation placer already registered. Please check linkage and avoid linking the same target more than once.\n",
      "W0000 00:00:1756930132.162671    6527 computation_placer.cc:177] computation placer already registered. Please check linkage and avoid linking the same target more than once.\n",
      "W0000 00:00:1756930132.162672    6527 computation_placer.cc:177] computation placer already registered. Please check linkage and avoid linking the same target more than once.\n",
      "W0000 00:00:1756930132.162673    6527 computation_placer.cc:177] computation placer already registered. Please check linkage and avoid linking the same target more than once.\n",
      "2025-09-03 21:08:52.165579: I tensorflow/core/platform/cpu_feature_guard.cc:210] This TensorFlow binary is optimized to use available CPU instructions in performance-critical operations.\n",
      "To enable the following instructions: AVX2 AVX_VNNI FMA, in other operations, rebuild TensorFlow with the appropriate compiler flags.\n"
     ]
    },
    {
     "name": "stdout",
     "output_type": "stream",
     "text": [
      "TensorFlow version: 2.19.0\n"
     ]
    }
   ],
   "source": [
    "# Import TensorFlow\n",
    "import tensorflow as tf\n",
    "print('TensorFlow version:', tf.__version__)"
   ]
  },
  {
   "cell_type": "markdown",
   "id": "9a03fb6e",
   "metadata": {},
   "source": [
    "## Creating a Basic Tensor\n",
    "\n",
    "A tensor is a multi-dimensional array. Let's create a simple 1D and 2D tensor using TensorFlow."
   ]
  },
  {
   "cell_type": "code",
   "execution_count": 8,
   "id": "a72a33ee",
   "metadata": {},
   "outputs": [
    {
     "name": "stdout",
     "output_type": "stream",
     "text": [
      "1D tensor: tf.Tensor([1 2 3 4], shape=(4,), dtype=int32)\n",
      "2D tensor:\n",
      " tf.Tensor(\n",
      "[[1 2]\n",
      " [3 4]], shape=(2, 2), dtype=int32)\n"
     ]
    }
   ],
   "source": [
    "# Create a 1D tensor (vector)\n",
    "tensor_1d = tf.constant([1, 2, 3, 4])\n",
    "print('1D tensor:', tensor_1d)\n",
    "\n",
    "# Create a 2D tensor (matrix)\n",
    "tensor_2d = tf.constant([[1, 2], [3, 4]])\n",
    "print('2D tensor:\\n', tensor_2d)"
   ]
  },
  {
   "cell_type": "markdown",
   "id": "8ab50ee2",
   "metadata": {},
   "source": [
    "## Tensor Properties and Shape\n",
    "\n",
    "Each tensor has properties such as shape (dimensions), data type, and number of dimensions. Let's explore these properties."
   ]
  },
  {
   "cell_type": "code",
   "execution_count": 9,
   "id": "ecf36b3c",
   "metadata": {},
   "outputs": [
    {
     "name": "stdout",
     "output_type": "stream",
     "text": [
      "Shape: (2, 2)\n",
      "Data type: <dtype: 'int32'>\n",
      "Number of dimensions: 2\n"
     ]
    }
   ],
   "source": [
    "# Display properties of the 2D tensor\n",
    "print('Shape:', tensor_2d.shape)\n",
    "print('Data type:', tensor_2d.dtype)\n",
    "print('Number of dimensions:', tensor_2d.ndim)"
   ]
  },
  {
   "cell_type": "markdown",
   "id": "b97ad7db",
   "metadata": {},
   "source": [
    "## Basic Tensor Operations\n",
    "\n",
    "Tensors support a variety of operations, such as addition, multiplication, and element-wise operations. Let's see some examples."
   ]
  },
  {
   "cell_type": "code",
   "execution_count": 10,
   "id": "dfd459f7",
   "metadata": {},
   "outputs": [
    {
     "name": "stdout",
     "output_type": "stream",
     "text": [
      "Add 2 to every element:\n",
      " tf.Tensor(\n",
      "[[3 4]\n",
      " [5 6]], shape=(2, 2), dtype=int32)\n",
      "Multiply every element by 3:\n",
      " tf.Tensor(\n",
      "[[ 3  6]\n",
      " [ 9 12]], shape=(2, 2), dtype=int32)\n",
      "Sum of two tensors:\n",
      " tf.Tensor(\n",
      "[[ 6  8]\n",
      " [10 12]], shape=(2, 2), dtype=int32)\n"
     ]
    }
   ],
   "source": [
    "# Addition\n",
    "add_result = tensor_2d + 2\n",
    "print('Add 2 to every element:\\n', add_result)\n",
    "\n",
    "# Element-wise multiplication\n",
    "mul_result = tensor_2d * 3\n",
    "print('Multiply every element by 3:\\n', mul_result)\n",
    "\n",
    "# Element-wise operation with another tensor\n",
    "other_tensor = tf.constant([[5, 6], [7, 8]])\n",
    "sum_tensors = tensor_2d + other_tensor\n",
    "print('Sum of two tensors:\\n', sum_tensors)"
   ]
  },
  {
   "cell_type": "markdown",
   "id": "6d24b13f",
   "metadata": {},
   "source": [
    "## Reshaping Tensors\n",
    "\n",
    "You can change the shape of a tensor using the `reshape` method. This is useful for preparing data for machine learning models."
   ]
  },
  {
   "cell_type": "code",
   "execution_count": 11,
   "id": "d85a93b1",
   "metadata": {},
   "outputs": [
    {
     "name": "stdout",
     "output_type": "stream",
     "text": [
      "Reshaped tensor (2x2):\n",
      " tf.Tensor(\n",
      "[[1 2]\n",
      " [3 4]], shape=(2, 2), dtype=int32)\n"
     ]
    }
   ],
   "source": [
    "# Reshape a 1D tensor to 2D\n",
    "tensor_reshaped = tf.reshape(tensor_1d, (2, 2))\n",
    "print('Reshaped tensor (2x2):\\n', tensor_reshaped)"
   ]
  },
  {
   "cell_type": "markdown",
   "id": "3bb5e1a7",
   "metadata": {},
   "source": [
    "## Indexing and Slicing Tensors\n",
    "\n",
    "You can access specific elements or slices of a tensor using indexing, similar to lists or arrays in Python."
   ]
  },
  {
   "cell_type": "code",
   "execution_count": 12,
   "id": "b84f6094",
   "metadata": {},
   "outputs": [
    {
     "name": "stdout",
     "output_type": "stream",
     "text": [
      "First row: tf.Tensor([1 2], shape=(2,), dtype=int32)\n",
      "Element at (1, 0): tf.Tensor(3, shape=(), dtype=int32)\n",
      "First column: tf.Tensor([1 3], shape=(2,), dtype=int32)\n"
     ]
    }
   ],
   "source": [
    "# Access the first row of the 2D tensor\n",
    "print('First row:', tensor_2d[0])\n",
    "\n",
    "# Access the element in the second row, first column\n",
    "print('Element at (1, 0):', tensor_2d[1, 0])\n",
    "\n",
    "# Slice the first column\n",
    "print('First column:', tensor_2d[:, 0])"
   ]
  },
  {
   "cell_type": "markdown",
   "id": "0efec84e",
   "metadata": {},
   "source": [
    "# Summary\n",
    "\n",
    "- Tensors are multi-dimensional arrays used in machine learning frameworks like TensorFlow.\n",
    "- You can create, reshape, and perform operations on tensors easily.\n",
    "- Indexing and slicing allow you to access specific elements or parts of a tensor.\n",
    "\n",
    "Explore more tensor operations as you continue your learning!"
   ]
  }
 ],
 "metadata": {
  "kernelspec": {
   "display_name": ".venv",
   "language": "python",
   "name": "python3"
  },
  "language_info": {
   "codemirror_mode": {
    "name": "ipython",
    "version": 3
   },
   "file_extension": ".py",
   "mimetype": "text/x-python",
   "name": "python",
   "nbconvert_exporter": "python",
   "pygments_lexer": "ipython3",
   "version": "3.10.12"
  }
 },
 "nbformat": 4,
 "nbformat_minor": 5
}
