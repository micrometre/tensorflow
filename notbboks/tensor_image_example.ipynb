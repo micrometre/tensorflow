{
 "cells": [
  {
   "cell_type": "markdown",
   "id": "5818b149",
   "metadata": {},
   "source": [
    "# Working with Image Tensors in TensorFlow\n",
    "\n",
    "This notebook introduces how to work with images as tensors using TensorFlow. Images are commonly represented as multi-dimensional tensors, making them easy to manipulate for machine learning tasks."
   ]
  },
  {
   "cell_type": "code",
   "execution_count": 1,
   "id": "91e7af07",
   "metadata": {},
   "outputs": [
    {
     "name": "stderr",
     "output_type": "stream",
     "text": [
      "2025-09-03 22:29:16.054081: I tensorflow/core/util/port.cc:153] oneDNN custom operations are on. You may see slightly different numerical results due to floating-point round-off errors from different computation orders. To turn them off, set the environment variable `TF_ENABLE_ONEDNN_OPTS=0`.\n",
      "2025-09-03 22:29:16.054485: I external/local_xla/xla/tsl/cuda/cudart_stub.cc:32] Could not find cuda drivers on your machine, GPU will not be used.\n",
      "2025-09-03 22:29:16.056682: I external/local_xla/xla/tsl/cuda/cudart_stub.cc:32] Could not find cuda drivers on your machine, GPU will not be used.\n",
      "2025-09-03 22:29:16.062065: E external/local_xla/xla/stream_executor/cuda/cuda_fft.cc:467] Unable to register cuFFT factory: Attempting to register factory for plugin cuFFT when one has already been registered\n",
      "WARNING: All log messages before absl::InitializeLog() is called are written to STDERR\n",
      "E0000 00:00:1756934956.071571    8827 cuda_dnn.cc:8579] Unable to register cuDNN factory: Attempting to register factory for plugin cuDNN when one has already been registered\n",
      "E0000 00:00:1756934956.074288    8827 cuda_blas.cc:1407] Unable to register cuBLAS factory: Attempting to register factory for plugin cuBLAS when one has already been registered\n",
      "W0000 00:00:1756934956.081468    8827 computation_placer.cc:177] computation placer already registered. Please check linkage and avoid linking the same target more than once.\n",
      "W0000 00:00:1756934956.081486    8827 computation_placer.cc:177] computation placer already registered. Please check linkage and avoid linking the same target more than once.\n",
      "W0000 00:00:1756934956.081488    8827 computation_placer.cc:177] computation placer already registered. Please check linkage and avoid linking the same target more than once.\n",
      "W0000 00:00:1756934956.081489    8827 computation_placer.cc:177] computation placer already registered. Please check linkage and avoid linking the same target more than once.\n",
      "2025-09-03 22:29:16.084432: I tensorflow/core/platform/cpu_feature_guard.cc:210] This TensorFlow binary is optimized to use available CPU instructions in performance-critical operations.\n",
      "To enable the following instructions: AVX2 AVX_VNNI FMA, in other operations, rebuild TensorFlow with the appropriate compiler flags.\n"
     ]
    }
   ],
   "source": [
    "# Import TensorFlow and matplotlib\n",
    "import tensorflow as tf\n",
    "import matplotlib.pyplot as plt"
   ]
  },
  {
   "cell_type": "markdown",
   "id": "dd6bdc0c",
   "metadata": {},
   "source": [
    "## Creating a Simple Image Tensor\n",
    "\n",
    "Let's create a small 3x3 RGB image as a tensor. Each pixel will have three values (Red, Green, Blue) ranging from 0 to 255."
   ]
  },
  {
   "cell_type": "code",
   "execution_count": 2,
   "id": "efbbc6d4",
   "metadata": {},
   "outputs": [
    {
     "name": "stdout",
     "output_type": "stream",
     "text": [
      "Image tensor shape: (3, 3, 3)\n"
     ]
    },
    {
     "name": "stderr",
     "output_type": "stream",
     "text": [
      "2025-09-03 22:29:20.901881: E external/local_xla/xla/stream_executor/cuda/cuda_platform.cc:51] failed call to cuInit: INTERNAL: CUDA error: Failed call to cuInit: UNKNOWN ERROR (303)\n"
     ]
    },
    {
     "data": {
      "image/png": "[encoded data removed]",
      "text/plain": [
       "<Figure size 640x480 with 1 Axes>"
      ]
     },
     "metadata": {},
     "output_type": "display_data"
    }
   ],
   "source": [
    "# Create a 3x3 RGB image tensor\n",
    "image_tensor = tf.constant([\n",
    "    [[255, 0, 0], [0, 255, 0], [0, 0, 255]],      # Red, Green, Blue\n",
    "    [[255, 255, 0], [0, 255, 255], [255, 0, 255]],# Yellow, Cyan, Magenta\n",
    "    [[0, 0, 0], [128, 128, 128], [255, 255, 255]] # Black, Gray, White\n",
    "], dtype=tf.uint8)\n",
    "\n",
    "print('Image tensor shape:', image_tensor.shape)\n",
    "\n",
    "# Display the image using matplotlib\n",
    "plt.imshow(image_tensor.numpy())\n",
    "plt.axis('off')\n",
    "plt.show()"
   ]
  },
  {
   "cell_type": "markdown",
   "id": "e89d0c20",
   "metadata": {},
   "source": [
    "## Accessing and Modifying Pixel Values\n",
    "\n",
    "You can access and modify individual pixel values in the image tensor using indexing, just like with regular tensors."
   ]
  },
  {
   "cell_type": "code",
   "execution_count": 6,
   "id": "2cef00a7",
   "metadata": {},
   "outputs": [
    {
     "name": "stdout",
     "output_type": "stream",
     "text": [
      "Pixel at (0, 1): [  0 255   0]\n"
     ]
    },
    {
     "data": {
      "image/png": "[encoded data removed]",
      "text/plain": [
       "<Figure size 640x480 with 1 Axes>"
      ]
     },
     "metadata": {},
     "output_type": "display_data"
    }
   ],
   "source": [
    "# Access the pixel at row 0, column 1 (Green)\n",
    "pixel = image_tensor[0, 1]\n",
    "print('Pixel at (0, 1):', pixel.numpy())\n",
    "\n",
    "# Change the center pixel to red (255, 0, 0)\n",
    "image_array = image_tensor.numpy().copy()\n",
    "image_array[0, 0] = [255, 0, 0]\n",
    "\n",
    "# Display the modified image\n",
    "plt.imshow(image_array)\n",
    "plt.axis('off')\n",
    "plt.show()"
   ]
  },
  {
   "cell_type": "markdown",
   "id": "9063c785",
   "metadata": {},
   "source": [
    "## Converting to Grayscale\n",
    "\n",
    "You can convert an RGB image tensor to grayscale by averaging the color channels or using weighted sums."
   ]
  },
  {
   "cell_type": "code",
   "execution_count": null,
   "id": "65c10a7d",
   "metadata": {},
   "outputs": [
    {
     "data": {
      "image/png": "[encoded data removed]",
      "text/plain": [
       "<Figure size 640x480 with 1 Axes>"
      ]
     },
     "metadata": {},
     "output_type": "display_data"
    }
   ],
   "source": [
    "# Convert the image to grayscale by averaging the color channels\n",
    "gray_image = tf.reduce_mean(tf.cast(image_tensor, tf.float32), axis=-1)\n",
    "\n",
    "plt.imshow(gray_image.numpy(), cmap='gray')\n",
    "plt.axis('off')\n",
    "plt.show()"
   ]
  },
  {
   "cell_type": "markdown",
   "id": "5bf298b3",
   "metadata": {},
   "source": [
    "# Summary\n",
    "\n",
    "- Images can be represented as multi-dimensional tensors in TensorFlow.\n",
    "- You can create, display, and modify image tensors easily.\n",
    "- Tensor operations allow you to process images, such as converting to grayscale.\n",
    "\n",
    "Try experimenting with your own images and tensor operations!"
   ]
  }
 ],
 "metadata": {
  "kernelspec": {
   "display_name": ".venv",
   "language": "python",
   "name": "python3"
  },
  "language_info": {
   "codemirror_mode": {
    "name": "ipython",
    "version": 3
   },
   "file_extension": ".py",
   "mimetype": "text/x-python",
   "name": "python",
   "nbconvert_exporter": "python",
   "pygments_lexer": "ipython3",
   "version": "3.10.12"
  }
 },
 "nbformat": 4,
 "nbformat_minor": 5
}
